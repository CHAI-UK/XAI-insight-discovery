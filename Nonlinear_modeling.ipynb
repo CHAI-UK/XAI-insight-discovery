{
 "cells": [
  {
   "cell_type": "code",
   "execution_count": 29,
   "metadata": {
    "metadata": {}
   },
   "outputs": [],
   "source": [
    "import numpy as np\n",
    "import pandas as pd\n",
    "import matplotlib.pyplot as plt\n",
    "\n",
    "from sklearn.preprocessing import OrdinalEncoder\n",
    "from sklearn.model_selection import train_test_split\n",
    "from sklearn.inspection import permutation_importance\n",
    "\n",
    "from scipy.stats import gaussian_kde\n",
    "\n",
    "from sksurv.datasets import load_gbsg2, load_whas500, load_aids\n",
    "from sksurv.ensemble import RandomSurvivalForest\n",
    "from sksurv.linear_model import CoxPHSurvivalAnalysis\n",
    "from sksurv.preprocessing import OneHotEncoder\n",
    "\n",
    "import shap\n",
    "\n",
    "from scipy.stats import pearsonr"
   ]
  },
  {
   "cell_type": "code",
   "execution_count": 16,
   "metadata": {
    "metadata": {}
   },
   "outputs": [],
   "source": [
    "def split_and_train(X, y, model_name, seed=20):\n",
    "    X_train, X_test, y_train, y_test = train_test_split(X, y, test_size=0.25, random_state=seed)\n",
    "\n",
    "    model = get_model(model_name, seed)\n",
    "    model.fit(X_train, y_train)\n",
    "\n",
    "    return model, (X_train, y_train), (X_test, y_test)\n",
    "\n",
    "def get_model(name, seed=20):\n",
    "  if name == 'rf':\n",
    "    model = RandomSurvivalForest(n_estimators=1000, min_samples_split=10, min_samples_leaf=15, n_jobs=-1, random_state=seed)\n",
    "  elif name == 'cox':\n",
    "    model = CoxPHSurvivalAnalysis()\n",
    "  else:\n",
    "    raise ValueError(f\"Unrecognised model name '{name}'!\")\n",
    "\n",
    "  return model\n",
    "\n",
    "def get_explanations(model, X_test, eps):\n",
    "    # compute the reference point (average patient)\n",
    "    X_mean = X_test.mean().to_frame().T\n",
    "\n",
    "    # find average risk\n",
    "    y_mean = model.predict(X_mean)\n",
    "    # predict risk for all\n",
    "    y_pred = model.predict(X_test)\n",
    "\n",
    "    # select only those individuals whose change in risk with respect to the reference point is smaller than epsilon (i.e. close to 0)\n",
    "    sel_mask = np.abs(y_pred - y_mean) < eps\n",
    "\n",
    "    # use the reference point\n",
    "    ex = shap.KernelExplainer(model.predict, X_mean)\n",
    "    explanation = ex(X_test[sel_mask])\n",
    "    df_shap = pd.DataFrame(explanation.values, columns=X_test.columns)\n",
    "\n",
    "\n",
    "    sel_data = X_test[sel_mask]\n",
    "\n",
    "    # get SHAP values of the selected individuals (delta_R close to 0)\n",
    "    return df_shap, sel_data  "
   ]
  },
  {
   "cell_type": "markdown",
   "metadata": {},
   "source": [
    "### GBSG2"
   ]
  },
  {
   "cell_type": "code",
   "execution_count": 40,
   "metadata": {
    "metadata": {}
   },
   "outputs": [
    {
     "name": "stdout",
     "output_type": "stream",
     "text": [
      "rf: 0.675\n",
      "cox: 0.665\n"
     ]
    }
   ],
   "source": [
    "X, y = load_gbsg2()\n",
    "\n",
    "grade_str = X.loc[:, \"tgrade\"].astype(object).values[:, np.newaxis]\n",
    "grade_num = OrdinalEncoder(categories=[[\"I\", \"II\", \"III\"]]).fit_transform(grade_str)\n",
    "\n",
    "X_no_grade = X.drop(\"tgrade\", axis=1)\n",
    "Xt = OneHotEncoder().fit_transform(X_no_grade)\n",
    "Xt.loc[:, \"tgrade\"] = grade_num\n",
    "\n",
    "Xt.rename(columns={'horTh=yes': 'horTh', 'menostat=Post': 'menostat'}, inplace=True)\n",
    "\n",
    "for model_name in ['rf', 'cox']:\n",
    "    model, (X_train, y_train), (X_test, y_test) = split_and_train(Xt, y, model_name)\n",
    "    score = model.score(X_test, y_test)\n",
    "    print(f\"{model_name}: {score:.3f}\")"
   ]
  },
  {
   "cell_type": "code",
   "execution_count": 42,
   "metadata": {
    "metadata": {}
   },
   "outputs": [
    {
     "name": "stderr",
     "output_type": "stream",
     "text": [
      "100%|██████████| 27/27 [00:20<00:00,  1.30it/s]\n"
     ]
    }
   ],
   "source": [
    "model, (X_train, y_train), (X_test, y_test) = split_and_train(Xt, y, 'rf')\n",
    "eps = model.predict(X_train).std()/10.0\n",
    "ex_result, org_df = get_explanations(model, X_test, eps)"
   ]
  },
  {
   "cell_type": "code",
   "execution_count": 43,
   "metadata": {
    "metadata": {}
   },
   "outputs": [
    {
     "name": "stdout",
     "output_type": "stream",
     "text": [
      "age: 0.18 (0.37)\n",
      "estrec: -0.66 (0.00)\n",
      "horTh: -0.98 (0.00)\n",
      "menostat: -0.61 (0.00)\n",
      "pnodes: 0.78 (0.00)\n",
      "progrec: -0.82 (0.00)\n",
      "tsize: 0.92 (0.00)\n",
      "tgrade: 0.98 (0.00)\n"
     ]
    }
   ],
   "source": [
    "for c in ex_result.columns:\n",
    "    corr = pearsonr(ex_result[c].to_numpy(), org_df[c].to_numpy())\n",
    "    print(f\"{c}: {corr[0]:.2f} ({corr[1]:.2f})\")"
   ]
  },
  {
   "cell_type": "markdown",
   "metadata": {},
   "source": [
    "### ACT"
   ]
  },
  {
   "cell_type": "code",
   "execution_count": 17,
   "metadata": {
    "metadata": {}
   },
   "outputs": [
    {
     "name": "stdout",
     "output_type": "stream",
     "text": [
      "rf: 0.732\n",
      "cox: 0.725\n"
     ]
    }
   ],
   "source": [
    "X, y = load_aids()\n",
    "\n",
    "cat_cols = ['hemophil', 'ivdrug', 'karnof', 'raceth', 'sex', 'strat2', 'tx', 'txgrp']\n",
    "X[cat_cols] = OrdinalEncoder().fit_transform(X[cat_cols])\n",
    "\n",
    "for model_name in ['rf', 'cox']:\n",
    "    model, (X_train, y_train), (X_test, y_test) = split_and_train(X, y, model_name)\n",
    "    score = model.score(X_test, y_test)\n",
    "    print(f\"{model_name}: {score:.3f}\")"
   ]
  },
  {
   "cell_type": "code",
   "execution_count": 18,
   "metadata": {
    "metadata": {}
   },
   "outputs": [
    {
     "name": "stderr",
     "output_type": "stream",
     "text": [
      "100%|██████████| 34/34 [00:20<00:00,  1.65it/s]\n"
     ]
    }
   ],
   "source": [
    "model, (X_train, y_train), (X_test, y_test) = split_and_train(X, y, 'rf')\n",
    "eps = model.predict(X_train).std()/10.0\n",
    "ex_result, org_df = get_explanations(model, X_test, eps)"
   ]
  },
  {
   "cell_type": "code",
   "execution_count": 39,
   "metadata": {
    "metadata": {}
   },
   "outputs": [
    {
     "name": "stdout",
     "output_type": "stream",
     "text": [
      "age: 0.27 (0.12)\n",
      "cd4: -0.69 (0.00)\n",
      "hemophil: -0.92 (0.00)\n",
      "ivdrug: -0.97 (0.00)\n",
      "karnof: -0.07 (0.69)\n",
      "priorzdv: -0.08 (0.64)\n",
      "raceth: -0.84 (0.00)\n",
      "sex: 0.93 (0.00)\n",
      "strat2: -1.00 (0.00)\n",
      "tx: -0.91 (0.00)\n",
      "txgrp: -0.91 (0.00)\n"
     ]
    }
   ],
   "source": [
    "for c in ex_result.columns:\n",
    "    corr = pearsonr(ex_result[c].to_numpy(), org_df[c].to_numpy())\n",
    "    print(f\"{c}: {corr[0]:.2f} ({corr[1]:.2f})\")"
   ]
  },
  {
   "cell_type": "markdown",
   "metadata": {},
   "source": [
    "### WHAS"
   ]
  },
  {
   "cell_type": "code",
   "execution_count": 44,
   "metadata": {
    "metadata": {}
   },
   "outputs": [
    {
     "name": "stdout",
     "output_type": "stream",
     "text": [
      "rf: 0.802\n",
      "cox: 0.785\n"
     ]
    }
   ],
   "source": [
    "X, y = load_whas500()\n",
    "\n",
    "cat_cols = ['afb', 'av3', 'chf', 'cvd', 'gender', 'miord', 'mitype', 'sho']\n",
    "X[cat_cols] = OrdinalEncoder().fit_transform(X[cat_cols])\n",
    "\n",
    "for model_name in ['rf', 'cox']:\n",
    "    model, (X_train, y_train), (X_test, y_test) = split_and_train(X, y, model_name)\n",
    "    score = model.score(X_test, y_test)\n",
    "    print(f\"{model_name}: {score:.3f}\")"
   ]
  },
  {
   "cell_type": "code",
   "execution_count": 45,
   "metadata": {
    "metadata": {}
   },
   "outputs": [
    {
     "name": "stderr",
     "output_type": "stream",
     "text": [
      "100%|██████████| 12/12 [00:09<00:00,  1.31it/s]\n"
     ]
    }
   ],
   "source": [
    "model, (X_train, y_train), (X_test, y_test) = split_and_train(X, y, 'rf')\n",
    "eps = model.predict(X_train).std()/10.0\n",
    "ex_result, org_df = get_explanations(model, X_test, eps)"
   ]
  },
  {
   "cell_type": "code",
   "execution_count": 46,
   "metadata": {
    "metadata": {}
   },
   "outputs": [
    {
     "name": "stdout",
     "output_type": "stream",
     "text": [
      "afb: nan (nan)\n",
      "age: 0.78 (0.00)\n",
      "av3: nan (nan)\n",
      "bmi: -0.69 (0.01)\n",
      "chf: nan (nan)\n",
      "cvd: 0.26 (0.41)\n",
      "diasbp: -0.92 (0.00)\n",
      "gender: 0.84 (0.00)\n",
      "hr: 0.89 (0.00)\n",
      "los: 0.86 (0.00)\n",
      "miord: 0.55 (0.06)\n",
      "mitype: -0.82 (0.00)\n",
      "sho: nan (nan)\n",
      "sysbp: -0.87 (0.00)\n"
     ]
    },
    {
     "name": "stderr",
     "output_type": "stream",
     "text": [
      "/tmp/ipykernel_100958/3958025120.py:2: ConstantInputWarning: An input array is constant; the correlation coefficient is not defined.\n",
      "  corr = pearsonr(ex_result[c].to_numpy(), org_df[c].to_numpy())\n"
     ]
    }
   ],
   "source": [
    "for c in ex_result.columns:\n",
    "    corr = pearsonr(ex_result[c].to_numpy(), org_df[c].to_numpy())\n",
    "    print(f\"{c}: {corr[0]:.2f} ({corr[1]:.2f})\")"
   ]
  }
 ],
 "metadata": {
  "kernelspec": {
   "display_name": "ssp25",
   "language": "python",
   "name": "python3"
  },
  "language_info": {
   "codemirror_mode": {
    "name": "ipython",
    "version": 3
   },
   "file_extension": ".py",
   "mimetype": "text/x-python",
   "name": "python",
   "nbconvert_exporter": "python",
   "pygments_lexer": "ipython3",
   "version": "3.12.2"
  }
 },
 "nbformat": 4,
 "nbformat_minor": 2
}
